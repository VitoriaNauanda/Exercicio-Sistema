{
 "cells": [
  {
   "cell_type": "code",
   "execution_count": 1,
   "metadata": {},
   "outputs": [
    {
     "name": "stdout",
     "output_type": "stream",
     "text": [
      "Informe o número em binário:010\n",
      "0\n",
      "1\n",
      "0\n",
      "Em decimal é: 2\n"
     ]
    }
   ],
   "source": [
    "binario = (input(\"Informe o número em binário:\"))\n",
    "for i in range(len(binario)):\n",
    "   print( binario[i])\n",
    "   potencia = len(binario)\n",
    "   \n",
    "\n",
    "decimal = 0\n",
    "\n",
    "  \n",
    "for i in range(len(binario)):\n",
    "    potencia = potencia - 1 \n",
    "    decimal = decimal + ((int(binario[i])) * (2 ** potencia))\n",
    "    \n",
    "print(\"Em decimal é:\", decimal)"
   ]
  },
  {
   "cell_type": "code",
   "execution_count": null,
   "metadata": {},
   "outputs": [],
   "source": []
  }
 ],
 "metadata": {
  "kernelspec": {
   "display_name": "Python 3",
   "language": "python",
   "name": "python3"
  },
  "language_info": {
   "codemirror_mode": {
    "name": "ipython",
    "version": 3
   },
   "file_extension": ".py",
   "mimetype": "text/x-python",
   "name": "python",
   "nbconvert_exporter": "python",
   "pygments_lexer": "ipython3",
   "version": "3.8.6"
  }
 },
 "nbformat": 4,
 "nbformat_minor": 4
}
