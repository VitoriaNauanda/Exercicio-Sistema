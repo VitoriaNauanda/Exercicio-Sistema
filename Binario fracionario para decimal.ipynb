{
 "cells": [
  {
   "cell_type": "code",
   "execution_count": 1,
   "metadata": {},
   "outputs": [
    {
     "name": "stdout",
     "output_type": "stream",
     "text": [
      "Informe o número em binário fracionário: 111.001\n",
      "A parte inteira é:  111\n",
      "A parte inteira em decimal é: 7\n",
      "Parte fracionária: 001\n",
      "A parte fracionária em decimal é: 0.125\n",
      "A parte inteira com a parte fracionária em decimal é: 7.125\n"
     ]
    }
   ],
   "source": [
    "binFra = input(\"Informe o número em binário fracionário: \")\n",
    "partInt = str(int(float(binFra)))\n",
    "partFra = \"\"\n",
    "print(\"A parte inteira é: \", partInt)\n",
    "\n",
    "\n",
    "for i in range(len(partInt)):\n",
    "    potencia = len(partInt)\n",
    "\n",
    "decimal = 0\n",
    "decimalFra = 0\n",
    "for i in range(len(partInt)):\n",
    "    potencia = potencia - 1\n",
    "    decimal += int(partInt[i]) * (2 ** potencia)\n",
    "print(\"A parte inteira em decimal é:\", decimal)\n",
    "\n",
    "\n",
    "\n",
    "for i in range(len(binFra)):\n",
    "    if(binFra[i] == \".\"):\n",
    "        for l in range(i + 1, len(binFra)):\n",
    "            partFra += binFra[l]\n",
    "        break\n",
    "print(\"Parte fracionária:\", partFra)\n",
    "            \n",
    "for i in range(len(partFra)):\n",
    "    potencia = potencia + 1\n",
    "    decimalFra += int(partFra[i]) * (2 ** (- potencia))\n",
    "print(\"A parte fracionária em decimal é:\", decimalFra)\n",
    "print(\"A parte inteira com a parte fracionária em decimal é:\",(decimal + decimalFra)) \n",
    "    \n",
    "\n"
   ]
  },
  {
   "cell_type": "code",
   "execution_count": null,
   "metadata": {},
   "outputs": [],
   "source": []
  },
  {
   "cell_type": "code",
   "execution_count": null,
   "metadata": {},
   "outputs": [],
   "source": []
  }
 ],
 "metadata": {
  "kernelspec": {
   "display_name": "Python 3",
   "language": "python",
   "name": "python3"
  },
  "language_info": {
   "codemirror_mode": {
    "name": "ipython",
    "version": 3
   },
   "file_extension": ".py",
   "mimetype": "text/x-python",
   "name": "python",
   "nbconvert_exporter": "python",
   "pygments_lexer": "ipython3",
   "version": "3.8.6"
  }
 },
 "nbformat": 4,
 "nbformat_minor": 4
}
