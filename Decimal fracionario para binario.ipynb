{
 "cells": [
  {
   "cell_type": "code",
   "execution_count": 1,
   "metadata": {},
   "outputs": [
    {
     "name": "stdout",
     "output_type": "stream",
     "text": [
      "Informe um numero em decimal fracionário: 7.125\n",
      "Parte inteira:  7\n",
      "Parte fracionária:  0.125\n",
      "A parte inteira em binário é:  111\n",
      "A parte Fracionária é: 001\n",
      "Parte inteira e parte fracionária: 111 , 001\n"
     ]
    }
   ],
   "source": [
    "decF = float(input(\"Informe um numero em decimal fracionário: \"))\n",
    "partInt = int(decF)\n",
    "partFra = decF - partInt\n",
    "\n",
    "binario = \"\"\n",
    "res = \"\"\n",
    "binarioInt = \"\"\n",
    "resInt = \"\"\n",
    "print(\"Parte inteira: \", partInt)\n",
    "print(\"Parte fracionária: \", partFra)\n",
    "\n",
    "\n",
    "if(partInt < 0):\n",
    "    print(\"INVÁLIDO\")\n",
    "elif(partInt == 0):\n",
    "    binarioInt = \"0\"\n",
    "    print(\"Número binário: \", binarioInt)\n",
    "elif(partInt == 1):\n",
    "    binarioInt = \"1\"\n",
    "    print(\"Número binário: \", binarioInt)\n",
    "elif(partInt == 2):\n",
    "    binarioInt = \"010\"\n",
    "    print(\"Número binário: \", binarioInt)\n",
    "elif(partInt == 3):\n",
    "    binarioInt = \"011\"\n",
    "    print(\"Número binário: \", binarioInt)\n",
    "elif(partInt >= 4):\n",
    "    while(partInt != 1):\n",
    "        binarioInt = binarioInt + str(partInt % 2)\n",
    "        partInt = partInt // 2\n",
    "        if(partInt // 2 == 1):\n",
    "            binarioInt = binarioInt + str(partInt % 2) + str(partInt // 2)\n",
    "        elif(partInt // 2 == 0):\n",
    "            binarioInt = binarioInt + str(partInt % 2) + str(partInt // 2)\n",
    "            break\n",
    "        for l in range(len(binarioInt)- 1, - 1, - 1):\n",
    "            resInt += binarioInt[l]\n",
    "    print(\"A parte inteira em binário é: \", resInt)\n",
    "            \n",
    "\n",
    "while(partFra != 1):\n",
    "    binario = binario + str(partFra * 2)\n",
    "    if(partFra * 2 >= 0) and (partFra * 2 < 1):\n",
    "        res += \"0\"\n",
    "        partFra = partFra * 2\n",
    "    elif(partFra * 2 > 1):\n",
    "        res += \"1\"\n",
    "        partFra = (partFra * 2) - 1\n",
    "    else:\n",
    "        res += \"1\"\n",
    "        break\n",
    "    for i in range(len(binario)+ 1,+ 1,+ 1):\n",
    "        res = res + binario[i]\n",
    "print(\"A parte Fracionária é:\", res)\n",
    "if(partInt == 3):\n",
    "    print(\"Parte inteira e parte fracionária:\", binarioInt,\",\", res)\n",
    "elif(partInt == 2):\n",
    "    print(\"Parte inteira e parte fracionária:\", binarioInt,\",\",res)\n",
    "else:    \n",
    " print(\"Parte inteira e parte fracionária:\", resInt,\",\",res)"
   ]
  },
  {
   "cell_type": "code",
   "execution_count": null,
   "metadata": {},
   "outputs": [],
   "source": []
  }
 ],
 "metadata": {
  "kernelspec": {
   "display_name": "Python 3",
   "language": "python",
   "name": "python3"
  },
  "language_info": {
   "codemirror_mode": {
    "name": "ipython",
    "version": 3
   },
   "file_extension": ".py",
   "mimetype": "text/x-python",
   "name": "python",
   "nbconvert_exporter": "python",
   "pygments_lexer": "ipython3",
   "version": "3.8.6"
  }
 },
 "nbformat": 4,
 "nbformat_minor": 4
}
