{
 "cells": [
  {
   "cell_type": "code",
   "execution_count": 1,
   "metadata": {},
   "outputs": [
    {
     "name": "stdout",
     "output_type": "stream",
     "text": [
      "A quantidade de linha é de:  4.0  KB\n",
      "A quantidade de bloco é de:  2.0  MB\n",
      "A largura do campo bloco é de:  21.0  bits\n",
      "O total de bits do campo bloco é de:  84.0  Kbits\n",
      "O bits de dados é de:  256.0  Kbits\n",
      "A quantidade de bits necessários para uma determinada memória Cache é de:  340.0  Kbits\n"
     ]
    }
   ],
   "source": [
    "import math\n",
    "\n",
    "KB = 2**10\n",
    "MB = 2**20\n",
    "\n",
    "cCache = 32 * KB \n",
    "cMP = 16 * MB\n",
    "larguraCacheByte = 8\n",
    "\n",
    "qtdLinha = cCache / larguraCacheByte\n",
    "qtdBloco = cMP / larguraCacheByte\n",
    "\n",
    "larguraCampoBloco = math.log2(qtdBloco)\n",
    "\n",
    "Tb = qtdLinha * larguraCampoBloco\n",
    "Td = cCache * larguraCacheByte\n",
    "\n",
    "Tc = Td + Tb \n",
    "\n",
    "print(\"A quantidade de linha é de: \", qtdLinha / KB, \" KB\")\n",
    "print(\"A quantidade de bloco é de: \", qtdBloco / MB, \" MB\")\n",
    "print(\"A largura do campo bloco é de: \", larguraCampoBloco, \" bits\")\n",
    "print(\"O total de bits do campo bloco é de: \", Tb / KB, \" Kbits\")\n",
    "print(\"O bits de dados é de: \", Td / KB, \" Kbits\")\n",
    "print(\"A quantidade de bits necessários para uma determinada memória Cache é de: \", Tc / KB, \" Kbits\")"
   ]
  }
 ],
 "metadata": {
  "kernelspec": {
   "display_name": "Python 3",
   "language": "python",
   "name": "python3"
  },
  "language_info": {
   "codemirror_mode": {
    "name": "ipython",
    "version": 3
   },
   "file_extension": ".py",
   "mimetype": "text/x-python",
   "name": "python",
   "nbconvert_exporter": "python",
   "pygments_lexer": "ipython3",
   "version": "3.8.6"
  }
 },
 "nbformat": 4,
 "nbformat_minor": 4
}
