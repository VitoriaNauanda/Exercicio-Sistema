{
 "cells": [
  {
   "cell_type": "code",
   "execution_count": 1,
   "metadata": {},
   "outputs": [
    {
     "name": "stdout",
     "output_type": "stream",
     "text": [
      "A quantidade de bloco é de:  4.0 MB\n",
      "A quantidade de bloco por linha é de:  2.0  KB\n",
      "A capacidade da cache é de:  32.0 KB\n",
      "A largura do campo Tag é de: 11.0  bits\n",
      "A quantidade de bits por linha é de:  11.0  bits\n",
      "A quantidade de bytes por linha é de:  4.0  bits\n",
      "Formato do Endereço para ser interpretado pelo sistema de controle da Cache é de:  26.0  bits\n"
     ]
    }
   ],
   "source": [
    "import math\n",
    "\n",
    "KB = 2 ** 10\n",
    "MB = 2 ** 20\n",
    "\n",
    "cMP = 64 * MB\n",
    "larguraCacheBytes = 16\n",
    "qtdLinha = 2 * KB\n",
    "\n",
    "qtdBloco = cMP / larguraCacheBytes\n",
    "qtdBlocoLinha = qtdBloco / qtdLinha\n",
    "\n",
    "cCache = qtdLinha * larguraCacheBytes\n",
    "larguraCampoTag = math.log2(qtdBlocoLinha)\n",
    "\n",
    "btsLinha = math.log2(qtdLinha)\n",
    "btsByte = math.log2(larguraCacheBytes)\n",
    "\n",
    "formatoEndereco = larguraCampoTag + btsLinha + btsByte\n",
    "\n",
    "print(\"A quantidade de bloco é de: \", qtdBloco / MB, \"MB\")\n",
    "print(\"A quantidade de bloco por linha é de: \", qtdBlocoLinha / KB, \" KB\")\n",
    "print(\"A capacidade da cache é de: \", cCache / KB, \"KB\")\n",
    "print(\"A largura do campo Tag é de:\", larguraCampoTag, \" bits\")\n",
    "print(\"A quantidade de bits por linha é de: \", btsLinha, \" bits\")\n",
    "print(\"A quantidade de bytes por linha é de: \", btsByte, \" bits\")\n",
    "\n",
    "print(\n",
    "    \"Formato do Endereço para ser interpretado pelo sistema de controle da Cache é de: \",\n",
    "    formatoEndereco,\n",
    "    \" bits\",\n",
    ")"
   ]
  }
 ],
 "metadata": {
  "kernelspec": {
   "display_name": "Python 3",
   "language": "python",
   "name": "python3"
  },
  "language_info": {
   "codemirror_mode": {
    "name": "ipython",
    "version": 3
   },
   "file_extension": ".py",
   "mimetype": "text/x-python",
   "name": "python",
   "nbconvert_exporter": "python",
   "pygments_lexer": "ipython3",
   "version": "3.8.6"
  }
 },
 "nbformat": 4,
 "nbformat_minor": 4
}
