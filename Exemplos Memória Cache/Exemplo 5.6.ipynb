{
 "cells": [
  {
   "cell_type": "code",
   "execution_count": 1,
   "metadata": {},
   "outputs": [
    {
     "name": "stdout",
     "output_type": "stream",
     "text": [
      "A capacidade da Cache é de:  32.0  KB\n",
      "A quantidade de bloco é de:  4.0  M\n",
      "A quantidade de bloco por linha é de:  2.0  K\n",
      "A largura do campo bloco é de:  22.0  bits\n",
      "Bits byte:  4.0  bits\n",
      "O formato do endereço para ser interpretado pelo sistema de controle da cache é de:  26.0  bits\n"
     ]
    }
   ],
   "source": [
    "import math \n",
    "\n",
    "KB = 2**10\n",
    "MB = 2**20\n",
    "\n",
    "qtdLinha = 2 * KB\n",
    "larguraCacheByte = 16\n",
    "\n",
    "cMP = 64 * MB \n",
    "\n",
    "cCache = qtdLinha * larguraCacheByte\n",
    "\n",
    "qtdBloco = cMP / larguraCacheByte\n",
    "qtdBlocoLinha = qtdBloco / qtdLinha\n",
    "\n",
    "larguraCampoBloco = math.log2(qtdBloco)\n",
    "\n",
    "bitsByte = math.log2(larguraCacheByte)\n",
    "\n",
    "formatoEndereco = larguraCampoBloco + bitsByte\n",
    "\n",
    "print(\"A capacidade da Cache é de: \", cCache / KB, \" KB\")\n",
    "print(\"A quantidade de bloco é de: \", qtdBloco / MB, \" M\")\n",
    "print(\"A quantidade de bloco por linha é de: \", qtdBlocoLinha / KB, \" K\")\n",
    "print(\"A largura do campo bloco é de: \", larguraCampoBloco, \" bits\")\n",
    "print(\"Bits byte: \", bitsByte, \" bits\")\n",
    "print(\"O formato do endereço para ser interpretado pelo sistema de controle da cache é de: \", formatoEndereco, \" bits\")"
   ]
  }
 ],
 "metadata": {
  "kernelspec": {
   "display_name": "Python 3",
   "language": "python",
   "name": "python3"
  },
  "language_info": {
   "codemirror_mode": {
    "name": "ipython",
    "version": 3
   },
   "file_extension": ".py",
   "mimetype": "text/x-python",
   "name": "python",
   "nbconvert_exporter": "python",
   "pygments_lexer": "ipython3",
   "version": "3.8.6"
  }
 },
 "nbformat": 4,
 "nbformat_minor": 4
}
