{
 "cells": [
  {
   "cell_type": "code",
   "execution_count": 1,
   "metadata": {},
   "outputs": [
    {
     "name": "stdout",
     "output_type": "stream",
     "text": [
      "A quantidade de linha é de:  4.0  K\n",
      "A quantidade de conjunto é de:  1.0  K\n",
      "A quantidade de bloco é de:  2.0  MB\n",
      "A quantidade de bloco por conjunto é de:  2.0  K\n",
      "A largura do campo Tag é de:  11.0  bits\n",
      "O total de bits dado é de:  256.0  KB\n",
      "O total de bits dos Tags é de:  44.0  K\n",
      "A capacidade em bits da Cache é de:  300.0  Kbits\n"
     ]
    }
   ],
   "source": [
    "import math\n",
    "\n",
    "KB = 2**10\n",
    "MB = 2**20\n",
    "\n",
    "cCache = 32 * KB\n",
    "cMP = 16 * MB\n",
    "larguraCacheByte = 8\n",
    "qtdLinhaConjunto = 4\n",
    "\n",
    "qtdLinha = cCache / larguraCacheByte\n",
    "qtdConjunto = qtdLinha /qtdLinhaConjunto\n",
    "\n",
    "qtdBloco = cMP / larguraCacheByte\n",
    "qtdBlocoConjunto = qtdBloco /qtdConjunto\n",
    "\n",
    "larguraCampoTag = math.log2(qtdBlocoConjunto)\n",
    "\n",
    "Td = cCache * larguraCacheByte\n",
    "Tt = qtdLinha * larguraCampoTag\n",
    "\n",
    "Tc = Td +(Tt )\n",
    "\n",
    "print(\"A quantidade de linha é de: \", qtdLinha / KB, \" K\")\n",
    "print(\"A quantidade de conjunto é de: \", qtdConjunto / KB, \" K\")\n",
    "print(\"A quantidade de bloco é de: \", qtdBloco /MB, \" MB\")\n",
    "print(\"A quantidade de bloco por conjunto é de: \", qtdBlocoConjunto / KB, \" K\")\n",
    "print(\"A largura do campo Tag é de: \", larguraCampoTag, \" bits\")\n",
    "print(\"O total de bits dado é de: \", Td / KB, \" KB\")\n",
    "print(\"O total de bits dos Tags é de: \", Tt / KB , \" K\")\n",
    "print(\"A capacidade em bits da Cache é de: \", Tc / KB,  \" Kbits\")"
   ]
  }
 ],
 "metadata": {
  "kernelspec": {
   "display_name": "Python 3",
   "language": "python",
   "name": "python3"
  },
  "language_info": {
   "codemirror_mode": {
    "name": "ipython",
    "version": 3
   },
   "file_extension": ".py",
   "mimetype": "text/x-python",
   "name": "python",
   "nbconvert_exporter": "python",
   "pygments_lexer": "ipython3",
   "version": "3.8.6"
  }
 },
 "nbformat": 4,
 "nbformat_minor": 4
}
