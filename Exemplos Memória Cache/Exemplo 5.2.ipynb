{
 "cells": [
  {
   "cell_type": "code",
   "execution_count": 1,
   "metadata": {},
   "outputs": [
    {
     "name": "stdout",
     "output_type": "stream",
     "text": [
      "A capacidade da da memória cache é de:  32768 ou 32.0 KB\n",
      "A quantidade de linha é de:  4096.0 ou  4.0 KB\n",
      "A quantidade de blocos é de:  2097152.0 ou 2.0 MB\n",
      "A quantidade de blocos por linha é de:  512.0\n",
      "A largura do campo Tag é de:  9.0\n",
      "Total do Tag: 36864.0 ou  36.0 KB\n",
      "Bits de dados é:  262144 ou  256.0 KB\n",
      "A quantidade de bits necessários para Cache é de:  299008.0 ou  292.0 KB\n"
     ]
    }
   ],
   "source": [
    "import math\n",
    "\n",
    "KB = 2 ** 10\n",
    "MB = 2 ** 20\n",
    "\n",
    "cCache = 32 * KB\n",
    "larguraCacheBytes = 8\n",
    "\n",
    "cMP = 16 * MB\n",
    "\n",
    "qtdLinha = (cCache) / larguraCacheBytes\n",
    "qtdBlocos = cMP / larguraCacheBytes\n",
    "qtdBlocosLinha = (qtdBlocos) / (qtdLinha)\n",
    "lCampoTag = math.log2(qtdBlocosLinha)\n",
    "\n",
    "Tt = qtdLinha * lCampoTag\n",
    "Td = cCache * larguraCacheBytes\n",
    "Tc = Td + Tt\n",
    "\n",
    "print(\"A capacidade da da memória cache é de: \", cCache, \"ou\", cCache / KB, \"KB\")\n",
    "print(\"A quantidade de linha é de: \", qtdLinha, \"ou \", qtdLinha / KB, \"KB\")\n",
    "print(\"A quantidade de blocos é de: \", qtdBlocos, \"ou\", qtdBlocos / MB, \"MB\")\n",
    "print(\"A quantidade de blocos por linha é de: \", qtdBlocosLinha)\n",
    "print(\"A largura do campo Tag é de: \", lCampoTag)\n",
    "print(\"Total do Tag:\", Tt, \"ou \", Tt / KB, \"KB\")\n",
    "print(\"Bits de dados é: \", Td, \"ou \", Td / KB, \"KB\")\n",
    "print(\"A quantidade de bits necessários para Cache é de: \", Tc, \"ou \", Tc / KB, \"KB\")"
   ]
  }
 ],
 "metadata": {
  "kernelspec": {
   "display_name": "Python 3",
   "language": "python",
   "name": "python3"
  },
  "language_info": {
   "codemirror_mode": {
    "name": "ipython",
    "version": 3
   },
   "file_extension": ".py",
   "mimetype": "text/x-python",
   "name": "python",
   "nbconvert_exporter": "python",
   "pygments_lexer": "ipython3",
   "version": "3.8.6"
  }
 },
 "nbformat": 4,
 "nbformat_minor": 4
}
