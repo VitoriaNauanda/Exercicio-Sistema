{
 "cells": [
  {
   "cell_type": "code",
   "execution_count": 1,
   "metadata": {},
   "outputs": [
    {
     "name": "stdout",
     "output_type": "stream",
     "text": [
      "A quantidade de linha é de:  2.0  K\n",
      "A quantidade de conjunto é de:  512.0\n",
      "A quantidade de bloco é de:  4.0  M\n",
      "A quantidade de bloco por conjunto é de:  8.0  K\n",
      "A largura do campo Tag é de:  13.0  bits\n",
      "A largura do campo conjunto é de:  9.0  bits\n",
      "Campo byte:  4.0  bits\n",
      "O formato do endereço é de:  26.0  bits\n"
     ]
    }
   ],
   "source": [
    "import math\n",
    "\n",
    "KB = 2**10\n",
    "MB = 2**20\n",
    "\n",
    "cMP = 64 * MB\n",
    "cCache = 32 * KB\n",
    "larguraCacheByte = 16\n",
    "linhaConjunto = 4\n",
    "\n",
    "qtdLinha = cCache/ larguraCacheByte\n",
    "qtdConjunto = qtdLinha / linhaConjunto\n",
    "\n",
    "t = math.log2(qtdConjunto)\n",
    "qtdBloco = cMP / larguraCacheByte\n",
    "qtdBlocoConjunto = qtdBloco /(2**t)\n",
    "\n",
    "larguraCampoTag = math.log2(qtdBlocoConjunto)\n",
    "larguraCampoConjunto = math.log2(qtdConjunto)\n",
    "\n",
    "bitsByte = math.log2(larguraCacheByte)\n",
    "\n",
    "formatoEndereco = larguraCampoTag + larguraCampoConjunto + bitsByte\n",
    "\n",
    "print(\"A quantidade de linha é de: \", qtdLinha / KB, \" K\")\n",
    "print(\"A quantidade de conjunto é de: \", qtdConjunto )\n",
    "print(\"A quantidade de bloco é de: \", qtdBloco / MB, \" M\")\n",
    "print(\"A quantidade de bloco por conjunto é de: \", qtdBlocoConjunto/ KB, \" K\")\n",
    "print(\"A largura do campo Tag é de: \", larguraCampoTag, \" bits\")\n",
    "print(\"A largura do campo conjunto é de: \", larguraCampoConjunto, \" bits\")\n",
    "print(\"Campo byte: \", bitsByte, \" bits\")\n",
    "print(\"O formato do endereço é de: \", formatoEndereco, \" bits\")"
   ]
  }
 ],
 "metadata": {
  "kernelspec": {
   "display_name": "Python 3",
   "language": "python",
   "name": "python3"
  },
  "language_info": {
   "codemirror_mode": {
    "name": "ipython",
    "version": 3
   },
   "file_extension": ".py",
   "mimetype": "text/x-python",
   "name": "python",
   "nbconvert_exporter": "python",
   "pygments_lexer": "ipython3",
   "version": "3.8.6"
  }
 },
 "nbformat": 4,
 "nbformat_minor": 4
}
