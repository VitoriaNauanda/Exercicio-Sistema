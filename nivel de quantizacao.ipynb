{
 "cells": [
  {
   "cell_type": "code",
   "execution_count": 2,
   "metadata": {},
   "outputs": [
    {
     "name": "stdout",
     "output_type": "stream",
     "text": [
      "Informe o nível de quantização:8\n",
      "3\n",
      " 000 \n",
      " 001 \n",
      " 010 \n",
      " 011 \n",
      " 100 \n",
      " 101 \n",
      " 110 \n",
      " 111 \n"
     ]
    }
   ],
   "source": [
    "import math \n",
    "\n",
    "nivelQuant = int(input(\"Informe o nível de quantização:\"))\n",
    "if(nivelQuant <= 0):\n",
    "\tprint(\"Inválido\")\n",
    "elif(nivelQuant > 0):\n",
    "  bits = int (math.log2(nivelQuant))\n",
    "  print(bits)\n",
    "\n",
    "  for i in range(2**bits):\n",
    "\t  print(f' {i:0{bits}b} ')"
   ]
  },
  {
   "cell_type": "code",
   "execution_count": null,
   "metadata": {},
   "outputs": [],
   "source": []
  },
  {
   "cell_type": "code",
   "execution_count": null,
   "metadata": {},
   "outputs": [],
   "source": []
  }
 ],
 "metadata": {
  "kernelspec": {
   "display_name": "Python 3",
   "language": "python",
   "name": "python3"
  },
  "language_info": {
   "codemirror_mode": {
    "name": "ipython",
    "version": 3
   },
   "file_extension": ".py",
   "mimetype": "text/x-python",
   "name": "python",
   "nbconvert_exporter": "python",
   "pygments_lexer": "ipython3",
   "version": "3.8.6"
  }
 },
 "nbformat": 4,
 "nbformat_minor": 4
}
