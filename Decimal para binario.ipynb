{
 "cells": [
  {
   "cell_type": "code",
   "execution_count": 2,
   "metadata": {},
   "outputs": [
    {
     "name": "stdout",
     "output_type": "stream",
     "text": [
      "Digite um número decimal a ser convertido em binário: 5\n",
      "Em binário: 101\n"
     ]
    }
   ],
   "source": [
    "binario = \"\"\n",
    "guardaResposta = \"\"\n",
    "decimal = int(input(\"Digite um número decimal a ser convertido em binário: \"))\n",
    "\n",
    "if(decimal < 0):\n",
    "    print(\"Número inválido, pois é negativo!\")\n",
    "    \n",
    "elif decimal == 0:\n",
    "    binario = \"0\"\n",
    "    print(\"Número binário: \", binario)\n",
    "    \n",
    "elif decimal == 1:\n",
    "    binario = \"1\"\n",
    "    print(\"Número binário:\", binario)\n",
    "elif decimal == 2:\n",
    "    binario = \"010\"\n",
    "    print(\"Número binário: \", binario)\n",
    "elif decimal == 3:\n",
    "    binario = \"011\"\n",
    "    print(\"Número binário: \", binario)\n",
    "    \n",
    "elif decimal >= 4:\n",
    "    while decimal!= 1:\n",
    "        binario = binario + str(decimal % 2)\n",
    "        decimal = decimal // 2\n",
    "        if(decimal // 2 == 1):\n",
    "            binario = binario + str(decimal % 2 ) + str(decimal // 2)\n",
    "        elif(decimal // 2 == 0):\n",
    "            binario = binario + str(decimal % 2 ) + str(decimal // 2)\n",
    "            break\n",
    "\n",
    "        for i in range(len(binario) - 1, -1 , -1):\n",
    "           guardaResposta = guardaResposta + binario[i]\n",
    "\n",
    "    print(\"Em binário:\", guardaResposta)\n"
   ]
  },
  {
   "cell_type": "code",
   "execution_count": null,
   "metadata": {},
   "outputs": [],
   "source": []
  }
 ],
 "metadata": {
  "kernelspec": {
   "display_name": "Python 3",
   "language": "python",
   "name": "python3"
  },
  "language_info": {
   "codemirror_mode": {
    "name": "ipython",
    "version": 3
   },
   "file_extension": ".py",
   "mimetype": "text/x-python",
   "name": "python",
   "nbconvert_exporter": "python",
   "pygments_lexer": "ipython3",
   "version": "3.8.6"
  }
 },
 "nbformat": 4,
 "nbformat_minor": 4
}
